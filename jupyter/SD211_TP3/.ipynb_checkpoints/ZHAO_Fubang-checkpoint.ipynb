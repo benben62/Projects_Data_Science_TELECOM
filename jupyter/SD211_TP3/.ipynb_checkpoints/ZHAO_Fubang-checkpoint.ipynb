{
 "cells": [
  {
   "cell_type": "markdown",
   "metadata": {},
   "source": [
    "# Restauration d'image à l'aide de l'ADMM\n",
    "*ZHAO Fubang*"
   ]
  },
  {
   "cell_type": "code",
   "execution_count": 198,
   "metadata": {
    "collapsed": true
   },
   "outputs": [],
   "source": [
    "import pickle\n",
    "import numpy as np\n",
    "import matplotlib.pyplot as plt\n",
    "from scipy.sparse.linalg import inv\n",
    "from scipy import sparse\n",
    "from mpl_toolkits.mplot3d import Axes3D\n",
    "from matplotlib import cm"
   ]
  },
  {
   "cell_type": "markdown",
   "metadata": {},
   "source": [
    "## Load data"
   ]
  },
  {
   "cell_type": "code",
   "execution_count": 118,
   "metadata": {},
   "outputs": [
    {
     "name": "stdout",
     "output_type": "stream",
     "text": [
      "(64, 64) (4096, 4096) (64, 64) (8064, 4096)\n",
      "4096 8064\n"
     ]
    }
   ],
   "source": [
    "data = pickle.load(open('dataforpython2.pk', 'rb'))\n",
    "original = data.get('original')\n",
    "H = data.get('H')\n",
    "y = data.get('observations')\n",
    "T = data.get('T')\n",
    "print original.shape, H.shape, y.shape, T.shape\n",
    "P = T.shape[1]\n",
    "Q = T.shape[0]\n",
    "print P, Q"
   ]
  },
  {
   "cell_type": "code",
   "execution_count": 21,
   "metadata": {},
   "outputs": [
    {
     "data": {
      "image/png": "[encoded data removed]",
      "text/plain": [
       "<matplotlib.figure.Figure at 0x1224e9b50>"
      ]
     },
     "metadata": {},
     "output_type": "display_data"
    },
    {
     "data": {
      "image/png": "[encoded data removed]",
      "text/plain": [
       "<matplotlib.figure.Figure at 0x1224e9e10>"
      ]
     },
     "metadata": {},
     "output_type": "display_data"
    }
   ],
   "source": [
    "plt.imshow(original, cmap='gray')\n",
    "plt.title('The original image')\n",
    "plt.show()\n",
    "plt.imshow(y, cmap='gray')\n",
    "plt.title('The observation image')\n",
    "plt.show()"
   ]
  },
  {
   "cell_type": "markdown",
   "metadata": {},
   "source": [
    "## 2 Restauration d'image\n",
    "### 2.2 Algorithme ADMM\n",
    "#### Préparation 1\n",
    "$f(x) = \\frac{1}{2}\\|y - Hx\\|^2_2$<br><br>\n",
    "$g(z) = \\beta\\|Tz_2\\|_1 + \\boldsymbol{\\iota}_{[0,1]}p(z_1)$<br><br>\n",
    "$A = \n",
    "\\begin{pmatrix}\n",
    "I_{P}\\\\ \n",
    "T\n",
    "\\end{pmatrix}$\n",
    "<br>\n",
    "\n",
    "#### Préparation 2\n",
    "$\\mathcal{L}_\\rho(x, z^k, \\gamma^k) = f(x) + g(z) + \\gamma^T(Ax-z) + \\frac{\\rho}{2}\\|Ax - z\\|^2_2$<br><br>\n",
    "$\\mathcal{L}_\\rho(x, z^k, \\gamma^k) = \\frac{1}{2}\\|y - Hx\\|^2_2 + \\beta\\|z_2\\|_1 + \\boldsymbol{\\iota}_{[0,1]}p(z_1) + \\gamma_1^T(x-z_1) + \\gamma_2^T(Tx-z_2) + \\frac{\\rho}{2}\\|x - z_1\\|^2_2 + \\frac{\\rho}{2}\\|Tx - z_2\\|^2_2$\n",
    "<br>\n",
    "\n",
    "#### Préparation 3\n",
    "$\\frac{\\partial \\mathcal{L}_\\rho(x, z^k, \\gamma^k)}{\\partial x} = 0$<br><br>\n",
    "$x = (H^TH + \\rho I + \\rho T^TT)^{-1}(H^Ty - \\gamma_1 - \\gamma_2T + \\rho z_1 + \\rho T^Tz_2)$\n",
    "<br>\n",
    "\n",
    "#### Préparation 4\n",
    "$\\frac{\\partial \\mathcal{L}_\\rho(x, z^k, \\gamma^k)}{\\partial z_1} = 0$<br><br>\n",
    "$\\frac{\\partial \\mathcal{L}_\\rho(x, z^k, \\gamma^k)}{\\partial z_2} = 0$<br><br>\n",
    "$z_1 =\n",
    "\\begin{cases}\n",
    "\\frac{\\gamma_1}{\\rho} + x & \\text{ if } 0 \\leq z_1 \\leq 1\\\\ \n",
    "0 & \\text{ if } z_1<0 \\\\ \n",
    "1 & \\text{ if } z_1>1\n",
    "\\end{cases}\n",
    "$\n",
    "\n",
    "$z_2 =\n",
    "\\begin{cases}\n",
    "\\frac{-\\beta + \\gamma_2}{\\rho} + Tx & \\text{ if } z \\geq 0\\\\ \n",
    "\\frac{\\beta + \\gamma_2}{\\rho} + Tx  & \\text{ if } z<0 \\\\\n",
    "0 & \\text{ if } otherwise\n",
    "\\end{cases}\n",
    "$\n",
    "<br>\n",
    "#### Préparation 5\n",
    "$\\gamma_1^{k+1} = \\gamma_1^k + \\rho(x^{k+1} - z_1^{k+1})$<br><br>\n",
    "$\\gamma_2^{k+1} = \\gamma_2^k + \\rho(Tx^{k+1} - z_2^{k+1})$"
   ]
  },
  {
   "cell_type": "code",
   "execution_count": 147,
   "metadata": {},
   "outputs": [],
   "source": [
    "def z1_trans(gamma1, x, rho):\n",
    "    res = gamma1 / rho + x\n",
    "    res[res < 0] = 0\n",
    "    res[res > 1] = 1\n",
    "    return res\n",
    "\n",
    "def z2_trans(gamma2, rho, beta, T, x):\n",
    "    if beta < 0:\n",
    "        print(\"beta needs to be positive!\")\n",
    "    tmp = gamma2 + rho * T.dot(x)\n",
    "    res = np.zeros(tmp.shape[0])\n",
    "    res[tmp >= beta] = ((tmp - beta) / rho)[tmp >= beta]\n",
    "    res[tmp <= -beta] = ((tmp + beta) / rho)[tmp <= -beta]\n",
    "    return res"
   ]
  },
  {
   "cell_type": "markdown",
   "metadata": {},
   "source": [
    "## 3 Implémentation de l'ADMM pour résoudre le problème de res- tauration d'image\n",
    "### Manipulation 2"
   ]
  },
  {
   "cell_type": "code",
   "execution_count": 172,
   "metadata": {},
   "outputs": [
    {
     "name": "stdout",
     "output_type": "stream",
     "text": [
      "(4096,) (4096,) (4096,) (8064,) (4096,) (8064,)\n"
     ]
    }
   ],
   "source": [
    "rho = 0.05\n",
    "beta = 0.01\n",
    "k_max = 100\n",
    "y = y.ravel()\n",
    "original = original.ravel()\n",
    "gamma1_0 = np.zeros(P)\n",
    "gamma2_0 = np.zeros(Q)\n",
    "z1_0 = np.ones(P)\n",
    "z2_0 = T.dot(z1_0)\n",
    "print y.shape, original.shape, gamma1_0.shape, gamma2_0.shape, z1_0.shape, z2_0.shape"
   ]
  },
  {
   "cell_type": "code",
   "execution_count": 189,
   "metadata": {
    "collapsed": true
   },
   "outputs": [],
   "source": [
    "def admm(z1_0, z2_0, gamma1_0, gamma2_0, H, T, rho, beta, k_max, y, original, pic_flag):\n",
    "    res = []\n",
    "    eqm = []\n",
    "    z1, z2, gamma1, gamma2 = z1_0, z2_0, gamma1_0, gamma2_0\n",
    "    tmp = inv(H.T.dot(H) + rho * sparse.identity(P) + rho * T.T.dot(T))\n",
    "    for i in xrange(k_max):\n",
    "        x = tmp.dot(H.T.dot(y) - gamma1 - T.T.dot(gamma2) + rho * z1 + rho * T.T.dot(z2))\n",
    "        z1 = z1_trans(gamma1, x, rho)\n",
    "        z2 = z2_trans(gamma2, rho, beta, T, x)\n",
    "        gamma1 = gamma1 + rho * (x - z1)\n",
    "        gamma2 = gamma2 + rho * (T.dot(x) - z2)\n",
    "        res_tmp_first = np.sum((y - H.dot(x)) ** 2) / 2.\n",
    "        res_tmp = res_tmp_first + beta * np.sum(np.abs(T.dot(x)))\n",
    "        res.append(res_tmp)\n",
    "        eqm_tmp = np.sum((x - original) ** 2) / P\n",
    "        eqm.append(eqm_tmp)\n",
    "    if pic_flag:\n",
    "        plt.plot(res)\n",
    "        plt.title('The curve of the value of function')\n",
    "        plt.show()\n",
    "        plt.plot(eqm)\n",
    "        plt.title('The curve of the EQM')\n",
    "        plt.show()\n",
    "        print \"The minimal value is: %r\" %res_tmp\n",
    "        print 'The final result of EQM is: %r' %eqm_tmp\n",
    "    return x, res_tmp, res_tmp_first, eqm_tmp"
   ]
  },
  {
   "cell_type": "code",
   "execution_count": 233,
   "metadata": {},
   "outputs": [
    {
     "data": {
      "image/png": "[encoded data removed]",
      "text/plain": [
       "<matplotlib.figure.Figure at 0x11186bb50>"
      ]
     },
     "metadata": {},
     "output_type": "display_data"
    },
    {
     "data": {
      "image/png": "[encoded data removed]",
      "text/plain": [
       "<matplotlib.figure.Figure at 0x10f1abe10>"
      ]
     },
     "metadata": {},
     "output_type": "display_data"
    },
    {
     "name": "stdout",
     "output_type": "stream",
     "text": [
      "The minimal value is: 5.8355575249207225\n",
      "The final result of EQM is: 0.0053874598192400446\n",
      "The final bias is: array([-0.03650837, -0.03644563, -0.03636398, ..., -0.04494459,\n",
      "       -0.04492612, -0.04491112])\n"
     ]
    }
   ],
   "source": [
    "res_x = admm(z1_0, z2_0, gamma1_0, gamma2_0, H, T, rho, beta, 100, y, original, True)[0]\n",
    "print 'The final bias is: %r' %(res_x-original)"
   ]
  },
  {
   "cell_type": "markdown",
   "metadata": {},
   "source": [
    "### Manipulation 3\n",
    "As shown in the figure above, obviously, the curve converges very fast, and the result is almost equal to zero."
   ]
  },
  {
   "cell_type": "code",
   "execution_count": 157,
   "metadata": {},
   "outputs": [
    {
     "data": {
      "image/png": "[encoded data removed]",
      "text/plain": [
       "<matplotlib.figure.Figure at 0x116908190>"
      ]
     },
     "metadata": {},
     "output_type": "display_data"
    }
   ],
   "source": [
    "plt.imshow(np.reshape(res_x, (64,64)), cmap='gray')\n",
    "plt.title('The restored image')\n",
    "plt.show()"
   ]
  },
  {
   "cell_type": "markdown",
   "metadata": {},
   "source": [
    "### Manipulation 4"
   ]
  },
  {
   "cell_type": "code",
   "execution_count": 234,
   "metadata": {
    "collapsed": true
   },
   "outputs": [],
   "source": [
    "rho_range = np.arange(0.0001, 0.1, 0.01)\n",
    "beta_range = np.arange(0.0001, 0.02, 0.002)"
   ]
  },
  {
   "cell_type": "code",
   "execution_count": 235,
   "metadata": {
    "collapsed": true
   },
   "outputs": [],
   "source": [
    "res_tune = np.zeros((len(rho_range), len(beta_range)))\n",
    "res_eqm = np.zeros((len(rho_range), len(beta_range)))\n",
    "for i in xrange(len(rho_range)):\n",
    "    for j in xrange(len(beta_range)):\n",
    "        res_tune[i][j], res_eqm[i][j] = admm(z1_0, z2_0, gamma1_0, gamma2_0,\n",
    "                                             H, T, rho_range[i], beta_range[j], 20, y, original, False)[2:4]"
   ]
  },
  {
   "cell_type": "code",
   "execution_count": 243,
   "metadata": {},
   "outputs": [
    {
     "ename": "TypeError",
     "evalue": "title() takes at least 1 argument (0 given)",
     "output_type": "error",
     "traceback": [
      "\u001b[0;31m---------------------------------------------------------------------------\u001b[0m",
      "\u001b[0;31mTypeError\u001b[0m                                 Traceback (most recent call last)",
      "\u001b[0;32m<ipython-input-243-84995873275d>\u001b[0m in \u001b[0;36m<module>\u001b[0;34m()\u001b[0m\n\u001b[1;32m     12\u001b[0m \u001b[0;31m# Add a color bar which maps values to colors.\u001b[0m\u001b[0;34m\u001b[0m\u001b[0;34m\u001b[0m\u001b[0m\n\u001b[1;32m     13\u001b[0m \u001b[0mfig\u001b[0m\u001b[0;34m.\u001b[0m\u001b[0mcolorbar\u001b[0m\u001b[0;34m(\u001b[0m\u001b[0msurf\u001b[0m\u001b[0;34m,\u001b[0m \u001b[0mshrink\u001b[0m\u001b[0;34m=\u001b[0m\u001b[0;36m0.5\u001b[0m\u001b[0;34m,\u001b[0m \u001b[0maspect\u001b[0m\u001b[0;34m=\u001b[0m\u001b[0;36m5\u001b[0m\u001b[0;34m)\u001b[0m\u001b[0;34m\u001b[0m\u001b[0m\n\u001b[0;32m---> 14\u001b[0;31m \u001b[0mplt\u001b[0m\u001b[0;34m.\u001b[0m\u001b[0mtitle\u001b[0m\u001b[0;34m(\u001b[0m\u001b[0;34m)\u001b[0m\u001b[0;34m\u001b[0m\u001b[0m\n\u001b[0m\u001b[1;32m     15\u001b[0m \u001b[0mplt\u001b[0m\u001b[0;34m.\u001b[0m\u001b[0mshow\u001b[0m\u001b[0;34m(\u001b[0m\u001b[0;34m)\u001b[0m\u001b[0;34m\u001b[0m\u001b[0m\n\u001b[1;32m     16\u001b[0m \u001b[0;34m\u001b[0m\u001b[0m\n",
      "\u001b[0;31mTypeError\u001b[0m: title() takes at least 1 argument (0 given)"
     ]
    }
   ],
   "source": [
    "def show_3d():\n",
    "    fig = plt.figure()\n",
    "    ax = fig.gca(projection='3d')\n",
    "    # Make data.\n",
    "    X_3d, Y_3d = np.meshgrid(rho_range, beta_range)\n",
    "\n",
    "    # Plot the surface.\n",
    "    surf = ax.plot_surface(X_3d, Y_3d, res_tune, cmap=cm.coolwarm,\n",
    "                           linewidth=0, antialiased=False)\n",
    "    # Customize the z axis.\n",
    "    ax.set_zlim(0, 1.5)\n",
    "    # Add a color bar which maps values to colors.\n",
    "    fig.colorbar(surf, shrink=0.5, aspect=5)\n",
    "    plt.title()\n",
    "    plt.show()"
   ]
  },
  {
   "cell_type": "markdown",
   "metadata": {},
   "source": [
    "At first, I wanted to use 3-D picture to show the changes of result with rho and beta. However, because of the limit of the speed of calculation, I could not get enough data to make the figure clear.\n",
    "However, with the matrix that we got, we can still see that:\n",
    "1. When the beta increases, normally, both the result of function and EQM increases.\n",
    "2. When the rho increases, normally, the result of function increases, but the changes of EQM was not that clear."
   ]
  }
 ],
 "metadata": {
  "kernelspec": {
   "display_name": "Python 2",
   "language": "python",
   "name": "python2"
  },
  "language_info": {
   "codemirror_mode": {
    "name": "ipython",
    "version": 2
   },
   "file_extension": ".py",
   "mimetype": "text/x-python",
   "name": "python",
   "nbconvert_exporter": "python",
   "pygments_lexer": "ipython2",
   "version": "2.7.13"
  }
 },
 "nbformat": 4,
 "nbformat_minor": 2
}
