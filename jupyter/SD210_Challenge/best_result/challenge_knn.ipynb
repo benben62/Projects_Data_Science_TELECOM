{
 "cells": [
  {
   "cell_type": "code",
   "execution_count": 10,
   "metadata": {
    "collapsed": false,
    "deletable": true,
    "editable": true
   },
   "outputs": [],
   "source": [
    "import numpy as np\n",
    "import pandas as pd\n",
    "from sklearn.neural_network import MLPClassifier\n",
    "from sklearn.model_selection import train_test_split\n",
    "from sklearn.model_selection import GridSearchCV\n",
    "from sklearn.decomposition import PCA\n",
    "from sklearn.ensemble import BaggingClassifier\n",
    "from sklearn.neighbors import NearestNeighbors\n",
    "from sklearn.feature_selection import SelectKBest\n",
    "from sklearn.feature_selection import f_classif\n",
    "import matplotlib.pyplot as plt\n",
    "import lightgbm as lgb"
   ]
  },
  {
   "cell_type": "code",
   "execution_count": 11,
   "metadata": {
    "collapsed": true,
    "deletable": true,
    "editable": true
   },
   "outputs": [],
   "source": [
    "# Critere de performance\n",
    "def compute_pred_score(y_true, y_pred):\n",
    "    y_pred_unq = np.unique(y_pred)\n",
    "    for i in y_pred_unq:\n",
    "        if (i != -1) & (i!= 1) & (i!= 0):\n",
    "            raise ValueError('The predictions can contain only -1, 1, or 0!')\n",
    "    y_comp = y_true * y_pred\n",
    "    score = float(10*np.sum(y_comp == -1) + np.sum(y_comp == 0))\n",
    "    score /= y_comp.shape[0]\n",
    "    return score\n",
    "\n",
    "def uncerAjust(y_pred, y_pred_pro, number=300):\n",
    "    temps = y_pred\n",
    "    abs = np.abs(y_pred_pro[:, 1]-y_pred_pro[:, 0])\n",
    "    index = np.argpartition(abs, number)[:number]\n",
    "    temps[index] = 0\n",
    "    return temps\n",
    "\n",
    "def uncerAjustPro(y_pred, y_pred_pro, threshold=0.9):\n",
    "    temps = y_pred\n",
    "    for i in xrange(len(y_pred)):\n",
    "        if y_pred_pro[i][1] < threshold and y_pred_pro[i][0] < threshold:\n",
    "            temps[i] = 0\n",
    "    return temps\n",
    "\n",
    "def scorer(estimator, X, y):\n",
    "    y_pred = estimator.predict(X)\n",
    "    y_pred_pro = estimator.predict_proba(X)\n",
    "    y_pred = uncerAjust(y_pred, y_pred_pro)\n",
    "    return 1-compute_pred_score(y, y_pred)"
   ]
  },
  {
   "cell_type": "code",
   "execution_count": 12,
   "metadata": {
    "collapsed": false,
    "deletable": true,
    "editable": true
   },
   "outputs": [],
   "source": [
    "X_train_fname = 'training_templates.csv'\n",
    "y_train_fname = 'training_labels.txt'\n",
    "X_test_fname = 'testing_templates.csv'\n",
    "X_train = pd.read_csv(X_train_fname, sep=',', header=None).values\n",
    "X_test = pd.read_csv(X_test_fname,  sep=',', header=None).values\n",
    "y_train = np.loadtxt(y_train_fname, dtype=np.int)"
   ]
  },
  {
   "cell_type": "code",
   "execution_count": 13,
   "metadata": {
    "collapsed": false,
    "deletable": true,
    "editable": true
   },
   "outputs": [
    {
     "name": "stdout",
     "output_type": "stream",
     "text": [
      "(105600, 118) (8496, 118)\n"
     ]
    }
   ],
   "source": [
    "train_set=lgb.Dataset(X_train, label=y_train)\n",
    "params = {\n",
    "    'metric': {'l1', 'l2'},\n",
    "    'num_leaves': 300,\n",
    "    'verbose': 0\n",
    "}\n",
    "\n",
    "gbm = lgb.train(params,\n",
    "                train_set,\n",
    "                num_boost_round=100)\n",
    "fip = gbm.feature_importance()\n",
    "n_feature = 118\n",
    "index_lgb = np.argsort(fip)[128-n_feature:]\n",
    "X_lgb = X_train[:, index_lgb]\n",
    "X_test_lgb = X_test[:, index_lgb]\n",
    "print X_lgb.shape, X_test_lgb.shape"
   ]
  },
  {
   "cell_type": "code",
   "execution_count": 14,
   "metadata": {
    "collapsed": false,
    "deletable": true,
    "editable": true
   },
   "outputs": [
    {
     "name": "stdout",
     "output_type": "stream",
     "text": [
      "[ 79  19   1  44  25  23  96  77 102   6 108  69  40 105  30  86  75 116\n",
      "  42  74  52  87  53  27  36 121  76   7  57  33  34  84 122  41  67  11\n",
      "  14  18 101 103 125  73  24  65 106  46 109  50  56  20  71  78  64  16\n",
      "  92  60  98  48  95 126  94 119  68  93  59  13  12  58  49  99  37  17\n",
      " 127   5 118 120  38  32   9  91 115  21  83 123 110  88  97   8  31  15\n",
      " 114  22 100  63 112  54  55  70   2  51  81 104 124  61  90  43  85   0\n",
      "  10  28 113 111  62  35   3  26  80  45]\n"
     ]
    }
   ],
   "source": [
    "print index_lgb[::-1]"
   ]
  },
  {
   "cell_type": "code",
   "execution_count": 15,
   "metadata": {
    "collapsed": false,
    "deletable": true,
    "editable": true
   },
   "outputs": [],
   "source": [
    "nbrs = NearestNeighbors(n_neighbors=10, algorithm='ball_tree').fit(X_lgb)\n",
    "distances, indices = nbrs.kneighbors(X_test_lgb)\n",
    "index_knn = np.ravel(indices)"
   ]
  },
  {
   "cell_type": "code",
   "execution_count": 16,
   "metadata": {
    "collapsed": false,
    "deletable": true,
    "editable": true
   },
   "outputs": [
    {
     "name": "stdout",
     "output_type": "stream",
     "text": [
      "(84960,)\n",
      "(40442, 118) (40442,)\n"
     ]
    }
   ],
   "source": [
    "print index.shape\n",
    "index_unique = np.unique(index_knn)\n",
    "X_knn = X_lgb[index_unique]\n",
    "y_knn = y_train[index_unique]\n",
    "print X_knn.shape, y_knn.shape"
   ]
  },
  {
   "cell_type": "code",
   "execution_count": 17,
   "metadata": {
    "collapsed": false,
    "deletable": true,
    "editable": true
   },
   "outputs": [],
   "source": [
    "# IndexPX = [ 79,19,25 ,108 ,116  ,77  ,86   ,6 ,105  ,34  ,87 ,102  ,67  , 7  ,52 , 69,101  , 1\n",
    "#   ,53 , 78 , 57 , 74 , 44  ,20 ,122, 121, 103 , 41 , 75,  33,  76,  65,  71 , 40 , 11 , 50,\n",
    "#  126 , 68 , 30  ,49 , 93 , 18 ,125  ,42,  64 , 16 , 92 , 14 , 98, 109, 106 , 60, 120,  32\n",
    "#   ,24 , 13 , 59 , 73  ,84, 118,  96 , 38 , 54 , 23 ,123 , 48  ,46  ,36 , 94,  70,  31,  83,\n",
    "#   56 ,58 , 51 ,  9 , 91 , 55 ,113 ,115 ,112 , 37, 110 ,119 , 99  ,47  ,17  ,12  ,35 ,114,\n",
    "#   26 , 15 , 61 ,104  ,27, 124 , 22,  81 , 85 , 62 , 88 ,  2 , 95 , 97 , 10, 111 ,  0 ,  5\n",
    "#   , 3, 127 , 21 , 29, 117, 107 , 45 , 66 , 90]"
   ]
  },
  {
   "cell_type": "code",
   "execution_count": 18,
   "metadata": {
    "collapsed": false,
    "deletable": true,
    "editable": true
   },
   "outputs": [],
   "source": [
    "X_train_1, X_test_1, y_train_1, y_test_1 = train_test_split(X_knn, y_knn,\n",
    "                                                            train_size=0.95, test_size=0.05, random_state=42)"
   ]
  },
  {
   "cell_type": "code",
   "execution_count": 19,
   "metadata": {
    "collapsed": false,
    "deletable": true,
    "editable": true
   },
   "outputs": [
    {
     "name": "stdout",
     "output_type": "stream",
     "text": [
      "1\n",
      "106\n"
     ]
    },
    {
     "data": {
      "text/plain": [
       "BaggingClassifier(base_estimator=MLPClassifier(activation='relu', alpha=0.0001, batch_size='auto', beta_1=0.9,\n",
       "       beta_2=0.999, early_stopping=False, epsilon=1e-08,\n",
       "       hidden_layer_sizes=(106, 106, 106, 106), learning_rate='constant',\n",
       "       learning_rate_init=0.001, max_iter=200, momentum=0.9,\n",
       "       nesterovs_momentum=True, power_t=0.5, random_state=None,\n",
       "       shuffle=True, solver='adam', tol=0.0001, validation_fraction=0.1,\n",
       "       verbose=False, warm_start=False),\n",
       "         bootstrap=True, bootstrap_features=False, max_features=0.7,\n",
       "         max_samples=0.7, n_estimators=50, n_jobs=-1, oob_score=False,\n",
       "         random_state=None, verbose=0, warm_start=False)"
      ]
     },
     "execution_count": 19,
     "metadata": {},
     "output_type": "execute_result"
    }
   ],
   "source": [
    "pca = PCA(svd_solver='randomized', n_components=n_feature, whiten=True)\n",
    "X_train_pca = pca.fit_transform(X_train_1)\n",
    "print 1\n",
    "\n",
    "alpha = 3\n",
    "size_mlp = y_train_1.shape[0]/(alpha*(2+n_feature))\n",
    "print size_mlp\n",
    "clf = BaggingClassifier(MLPClassifier(hidden_layer_sizes=(size_mlp, size_mlp, size_mlp, size_mlp)),\n",
    "                        n_estimators=50, max_features=0.7, max_samples=0.7, n_jobs=-1)\n",
    "clf.fit(X_train_pca, y_train_1)"
   ]
  },
  {
   "cell_type": "code",
   "execution_count": 20,
   "metadata": {
    "collapsed": false,
    "deletable": true,
    "editable": true
   },
   "outputs": [
    {
     "name": "stdout",
     "output_type": "stream",
     "text": [
      "thre:123.000000\n",
      "score:0.085517\n"
     ]
    },
    {
     "data": {
      "image/png": "[encoded data removed]",
      "text/plain": [
       "<matplotlib.figure.Figure at 0x113d0bc10>"
      ]
     },
     "metadata": {},
     "output_type": "display_data"
    }
   ],
   "source": [
    "threshold = 0\n",
    "X_test_pca = pca.transform(X_test_1)\n",
    "y_pred = clf.predict(X_test_pca)\n",
    "y_pred_pro = clf.predict_proba(X_test_pca)\n",
    "\n",
    "score = 1\n",
    "scores = []\n",
    "for i in np.arange(0, 1000):\n",
    "    y_pred_1 = uncerAjust(y_pred, y_pred_pro, i)\n",
    "    temp = compute_pred_score(y_pred_1, y_test_1)\n",
    "    scores.append(temp)\n",
    "    if temp < score:\n",
    "        score = temp\n",
    "        threshold = i\n",
    "print 'thre:%f' %threshold\n",
    "print 'score:%f' %score\n",
    "plt.plot(scores)\n",
    "plt.show()"
   ]
  },
  {
   "cell_type": "code",
   "execution_count": 27,
   "metadata": {
    "collapsed": false,
    "deletable": true,
    "editable": true
   },
   "outputs": [
    {
     "name": "stdout",
     "output_type": "stream",
     "text": [
      "425\n"
     ]
    }
   ],
   "source": [
    "X_test_pca1 = pca.transform(X_test_lgb)\n",
    "y_pred = clf.predict(X_test_pca1)\n",
    "y_pred_pro = clf.predict_proba(X_test_pca1)\n",
    "y_pred = uncerAjust(y_pred, y_pred_pro, 425)\n",
    "print list(y_pred).count(0)\n",
    "np.savetxt('y_pred_bagg.txt', y_pred, fmt='%d')"
   ]
  },
  {
   "cell_type": "code",
   "execution_count": null,
   "metadata": {
    "collapsed": true,
    "deletable": true,
    "editable": true
   },
   "outputs": [],
   "source": []
  }
 ],
 "metadata": {
  "kernelspec": {
   "display_name": "Python 2",
   "language": "python",
   "name": "python2"
  },
  "language_info": {
   "codemirror_mode": {
    "name": "ipython",
    "version": 2
   },
   "file_extension": ".py",
   "mimetype": "text/x-python",
   "name": "python",
   "nbconvert_exporter": "python",
   "pygments_lexer": "ipython2",
   "version": "2.7.13"
  }
 },
 "nbformat": 4,
 "nbformat_minor": 2
}
