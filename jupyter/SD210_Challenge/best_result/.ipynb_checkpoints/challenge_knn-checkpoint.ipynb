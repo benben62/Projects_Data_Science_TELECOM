{
 "cells": [
  {
   "cell_type": "code",
   "execution_count": null,
   "metadata": {
    "collapsed": true,
    "deletable": true,
    "editable": true
   },
   "outputs": [],
   "source": [
    "import numpy as np\n",
    "import pandas as pd\n",
    "from sklearn.neural_network import MLPClassifier\n",
    "from sklearn.model_selection import train_test_split\n",
    "from sklearn.model_selection import GridSearchCV\n",
    "from sklearn.decomposition import PCA\n",
    "from sklearn.ensemble import BaggingClassifier\n",
    "from sklearn.neighbors import NearestNeighbors\n",
    "from sklearn.feature_selection import SelectKBest\n",
    "from sklearn.feature_selection import f_classif"
   ]
  },
  {
   "cell_type": "code",
   "execution_count": null,
   "metadata": {
    "collapsed": false,
    "deletable": true,
    "editable": true
   },
   "outputs": [],
   "source": [
    "# Critere de performance\n",
    "def compute_pred_score(y_true, y_pred):\n",
    "    y_pred_unq = np.unique(y_pred)\n",
    "    for i in y_pred_unq:\n",
    "        if (i != -1) & (i!= 1) & (i!= 0):\n",
    "            raise ValueError('The predictions can contain only -1, 1, or 0!')\n",
    "    y_comp = y_true * y_pred\n",
    "    score = float(10*np.sum(y_comp == -1) + np.sum(y_comp == 0))\n",
    "    score /= y_comp.shape[0]\n",
    "    return score\n",
    "\n",
    "X_train_fname = 'training_templates.csv'\n",
    "y_train_fname = 'training_labels.txt'\n",
    "X_test_fname = 'testing_templates.csv'\n",
    "X_train = pd.read_csv(X_train_fname, sep=',', header=None).values\n",
    "X_test = pd.read_csv(X_test_fname,  sep=',', header=None).values\n",
    "y_train = np.loadtxt(y_train_fname, dtype=np.int)\n",
    "\n",
    "\n",
    "def uncerAjust(y_pred, y_pred_pro, threshold=0.9):\n",
    "    temps = y_pred\n",
    "    for i in xrange(len(y_pred)):\n",
    "        if y_pred_pro[i][1] < threshold and y_pred_pro[i][0] < threshold:\n",
    "            temps[i] = 0\n",
    "    return temps\n",
    "\n",
    "\n",
    "def scorer(estimator, X, y):\n",
    "    y_pred = estimator.predict(X)\n",
    "    y_pred_pro = estimator.predict_proba(X)\n",
    "    y_pred = uncerAjust(y_pred, y_pred_pro)\n",
    "    return 1-compute_pred_score(y, y_pred)\n",
    "\n",
    "\n",
    "nbrs = NearestNeighbors(n_neighbors=10, algorithm='ball_tree').fit(X_train)\n",
    "distances, indices = nbrs.kneighbors(X_test)\n",
    "index = np.ravel(indices)"
   ]
  },
  {
   "cell_type": "code",
   "execution_count": null,
   "metadata": {
    "collapsed": false,
    "deletable": true,
    "editable": true
   },
   "outputs": [],
   "source": [
    "print index.shape\n",
    "index_unique = np.unique(index)\n",
    "X_knn = X_train[index_unique]\n",
    "y_knn = y_train[index_unique]\n",
    "fsl = SelectKBest(f_classif, k=120)\n",
    "X_new = fsl.fit_transform(X_knn, y_knn)\n",
    "X_test_fsl = fsl.transform(X_test)\n",
    "print X_knn.shape, y_knn.shape"
   ]
  },
  {
   "cell_type": "code",
   "execution_count": null,
   "metadata": {
    "collapsed": false,
    "deletable": true,
    "editable": true
   },
   "outputs": [],
   "source": [
    "X_train_1, X_test_1, y_train_1, y_test_1 = train_test_split(X_new, y_knn,\n",
    "                                                            train_size=0.95, test_size=0.05, random_state=2)"
   ]
  },
  {
   "cell_type": "code",
   "execution_count": null,
   "metadata": {
    "collapsed": false,
    "deletable": true,
    "editable": true
   },
   "outputs": [],
   "source": [
    "pca = PCA(svd_solver='randomized', n_components=120, whiten=True)\n",
    "X_train_pca = pca.fit_transform(X_train_1)\n",
    "print 1\n",
    "\n",
    "clf = BaggingClassifier(MLPClassifier(hidden_layer_sizes=(100, 100, 100)),\n",
    "                        n_estimators=30, max_features=0.7, max_samples=0.5, n_jobs=-1)\n",
    "clf.fit(X_train_pca, y_train_1)"
   ]
  },
  {
   "cell_type": "code",
   "execution_count": null,
   "metadata": {
    "collapsed": false,
    "deletable": true,
    "editable": true
   },
   "outputs": [],
   "source": [
    "threshold = 0\n",
    "X_test_pca = pca.transform(X_test_1)\n",
    "y_pred = clf.predict(X_test_pca)\n",
    "y_pred_pro = clf.predict_proba(X_test_pca)\n",
    "\n",
    "score = 1\n",
    "for i in np.arange(0, 1, 0.01):\n",
    "    y_pred_1 = uncerAjust(y_pred, y_pred_pro, i)\n",
    "    temp = compute_pred_score(y_pred_1, y_test_1)\n",
    "    if temp < score:\n",
    "        score = temp\n",
    "        threshold = i\n",
    "print 'thre:%f' %threshold\n",
    "print 'score:%f' %score\n",
    "X_test_pca1 = pca.transform(fsl.transform(X_test))\n",
    "y_pred = clf.predict(X_test_pca1)\n",
    "y_pred_pro = clf.predict_proba(X_test_pca1)\n",
    "y_pred = uncerAjust(y_pred, y_pred_pro, 0.697)\n",
    "np.savetxt('y_pred_bagging.txt', y_pred, fmt='%d')"
   ]
  },
  {
   "cell_type": "code",
   "execution_count": null,
   "metadata": {
    "collapsed": false,
    "deletable": true,
    "editable": true
   },
   "outputs": [],
   "source": [
    "l = list(y_pred)\n",
    "print l.count(0)"
   ]
  },
  {
   "cell_type": "code",
   "execution_count": null,
   "metadata": {
    "collapsed": true,
    "deletable": true,
    "editable": true
   },
   "outputs": [],
   "source": []
  }
 ],
 "metadata": {
  "kernelspec": {
   "display_name": "Python 2",
   "language": "python",
   "name": "python2"
  },
  "language_info": {
   "codemirror_mode": {
    "name": "ipython",
    "version": 2
   },
   "file_extension": ".py",
   "mimetype": "text/x-python",
   "name": "python",
   "nbconvert_exporter": "python",
   "pygments_lexer": "ipython2",
   "version": "2.7.13"
  }
 },
 "nbformat": 4,
 "nbformat_minor": 2
}
