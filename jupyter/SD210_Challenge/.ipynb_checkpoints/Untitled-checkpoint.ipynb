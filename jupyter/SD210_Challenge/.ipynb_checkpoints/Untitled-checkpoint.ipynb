{
 "cells": [
  {
   "cell_type": "code",
   "execution_count": 1,
   "metadata": {
    "collapsed": false,
    "deletable": true,
    "editable": true
   },
   "outputs": [
    {
     "data": {
      "text/plain": [
       "GridSearchCV(cv=None, error_score='raise',\n",
       "       estimator=MyEstimator(base_estimator=MLPClassifier(activation='relu', alpha=0.0001, batch_size='auto', beta_1=0.9,\n",
       "       beta_2=0.999, early_stopping=False, epsilon=1e-08,\n",
       "       hidden_layer_sizes=(260,), learning_rate='adaptive',\n",
       "       learning_rate_init=0.001, max_iter=200, momentum=0.9,\n",
       "      ...10, n_jobs=-1, oob_score=False,\n",
       "      random_state=None, threshold=0.5, verbose=0, warm_start=False),\n",
       "       fit_params={}, iid=True, n_jobs=1,\n",
       "       param_grid={'n_estimators': xrange(5, 35, 5)},\n",
       "       pre_dispatch='2*n_jobs', refit=True, return_train_score=True,\n",
       "       scoring=<function scorer at 0x1194307d0>, verbose=0)"
      ]
     },
     "execution_count": 1,
     "metadata": {},
     "output_type": "execute_result"
    }
   ],
   "source": [
    "import numpy as np\n",
    "import pandas as pd\n",
    "from sklearn.neural_network import MLPClassifier\n",
    "from sklearn.model_selection import GridSearchCV\n",
    "from sklearn.decomposition import PCA\n",
    "from sklearn.ensemble import BaggingClassifier\n",
    "\n",
    "\n",
    "# Critere de performance\n",
    "def compute_pred_score(y_true, y_pred):\n",
    "    y_pred_unq = np.unique(y_pred)\n",
    "    for i in y_pred_unq:\n",
    "        if (i != -1) & (i!= 1) & (i!= 0):\n",
    "            raise ValueError('The predictions can contain only -1, 1, or 0!')\n",
    "    y_comp = y_true * y_pred\n",
    "    score = float(10*np.sum(y_comp == -1) + np.sum(y_comp == 0))\n",
    "    score /= y_comp.shape[0]\n",
    "    return score\n",
    "\n",
    "X_train_fname = 'training_templates.csv'\n",
    "y_train_fname = 'training_labels.txt'\n",
    "X_test_fname = 'testing_templates.csv'\n",
    "X_train = pd.read_csv(X_train_fname, sep=',', header=None).values\n",
    "X_test = pd.read_csv(X_test_fname,  sep=',', header=None).values\n",
    "y_train = np.loadtxt(y_train_fname, dtype=np.int)\n",
    "\n",
    "\n",
    "def uncerAjust(y_pred, y_pred_pro, threshold=0.9):\n",
    "    temps = y_pred\n",
    "    for i in xrange(len(y_pred)):\n",
    "        if (y_pred_pro[i][0] < threshold) and (y_pred_pro[i][1] < threshold):\n",
    "            temps[i] = 0\n",
    "    return temps\n",
    "\n",
    "\n",
    "def scorer(estimator, X, y):\n",
    "    y_pred = estimator.predict(X)\n",
    "    return 1-compute_pred_score(y, y_pred)\n",
    "\n",
    "\n",
    "X_train_1, X_test_1, y_train_1, y_test_1 = train_test_split(X_train, y_train,\n",
    "                                                            train_size=0.2, test_size=0.05, random_state=42)\n",
    "pca = PCA(svd_solver='randomized', n_components=128, whiten=True)\n",
    "X_train_pca = pca.fit_transform(X_train_1)\n",
    "\n",
    "\n",
    "class MyEstimator(BaggingClassifier):\n",
    "    def __init__(self,\n",
    "                 base_estimator=None,\n",
    "                 n_estimators=10,\n",
    "                 max_samples=1.0,\n",
    "                 max_features=1.0,\n",
    "                 bootstrap=True,\n",
    "                 bootstrap_features=False,\n",
    "                 oob_score=False,\n",
    "                 warm_start=False,\n",
    "                 n_jobs=1,\n",
    "                 random_state=None,\n",
    "                 verbose=0, threshold=0.5):\n",
    "\n",
    "        super(MyEstimator, self).__init__(\n",
    "            base_estimator=base_estimator,\n",
    "            n_estimators=n_estimators,\n",
    "            max_samples=max_samples,\n",
    "            max_features=max_features,\n",
    "            bootstrap=bootstrap,\n",
    "            bootstrap_features=bootstrap_features,\n",
    "            oob_score=oob_score,\n",
    "            warm_start=warm_start,\n",
    "            n_jobs=n_jobs,\n",
    "            random_state=random_state,\n",
    "            verbose=verbose)\n",
    "        self.threshold = threshold\n",
    "\n",
    "    def predict(self, X):\n",
    "        y_pred = BaggingClassifier.predict(self, X)\n",
    "        y_pred_pro = BaggingClassifier.predict_proba(self, X)\n",
    "        return uncerAjust(y_pred, y_pred_pro, self.threshold)\n",
    "\n",
    "    \n",
    "base = MLPClassifier(hidden_layer_sizes=(10,), learning_rate='adaptive')\n",
    "parameters = {'n_estimators': xrange(5, 31, 5)}\n",
    "\n",
    "myEst = MyEstimator(base_estimator=base, n_jobs=-1, max_features=0.7, max_samples=0.5)\n",
    "clf = GridSearchCV(myEst, parameters, scoring=scorer)\n",
    "clf.fit(X_train_pca, y_train)\n"
   ]
  },
  {
   "cell_type": "code",
   "execution_count": 4,
   "metadata": {
    "collapsed": false,
    "deletable": true,
    "editable": true
   },
   "outputs": [
    {
     "name": "stdout",
     "output_type": "stream",
     "text": [
      "MyEstimator(base_estimator=MLPClassifier(activation='relu', alpha=0.0001, batch_size='auto', beta_1=0.9,\n",
      "       beta_2=0.999, early_stopping=False, epsilon=1e-08,\n",
      "       hidden_layer_sizes=(260,), learning_rate='adaptive',\n",
      "       learning_rate_init=0.001, max_iter=200, momentum=0.9,\n",
      "       nesterovs_momentum=True, power_t=0.5, random_state=None,\n",
      "       shuffle=True, solver='adam', tol=0.0001, validation_fraction=0.1,\n",
      "       verbose=False, warm_start=False),\n",
      "      bootstrap=True, bootstrap_features=False, max_features=1.0,\n",
      "      max_samples=1.0, n_estimators=15, n_jobs=-1, oob_score=False,\n",
      "      random_state=None, threshold=0.5, verbose=0, warm_start=False)\n"
     ]
    }
   ],
   "source": [
    "ccc = clf.best_estimator_\n",
    "print ccc"
   ]
  },
  {
   "cell_type": "code",
   "execution_count": null,
   "metadata": {
    "collapsed": true
   },
   "outputs": [],
   "source": []
  }
 ],
 "metadata": {
  "kernelspec": {
   "display_name": "Python 2",
   "language": "python",
   "name": "python2"
  },
  "language_info": {
   "codemirror_mode": {
    "name": "ipython",
    "version": 2
   },
   "file_extension": ".py",
   "mimetype": "text/x-python",
   "name": "python",
   "nbconvert_exporter": "python",
   "pygments_lexer": "ipython2",
   "version": "2.7.13"
  }
 },
 "nbformat": 4,
 "nbformat_minor": 2
}
