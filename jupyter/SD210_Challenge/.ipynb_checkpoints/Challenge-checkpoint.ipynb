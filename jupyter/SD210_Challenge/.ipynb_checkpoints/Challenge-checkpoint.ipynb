{
 "cells": [
  {
   "cell_type": "code",
   "execution_count": 49,
   "metadata": {
    "collapsed": false,
    "deletable": true,
    "editable": true
   },
   "outputs": [
    {
     "name": "stdout",
     "output_type": "stream",
     "text": [
      "1\n"
     ]
    },
    {
     "data": {
      "text/plain": [
       "BaggingClassifier(base_estimator=MLPClassifier(activation='relu', alpha=0.0001, batch_size='auto', beta_1=0.9,\n",
       "       beta_2=0.999, early_stopping=False, epsilon=1e-08,\n",
       "       hidden_layer_sizes=(150, 150, 150, 150), learning_rate='constant',\n",
       "       learning_rate_init=0.001, max_iter=200, momentum=0.9,\n",
       "       nesterovs_momentum=True, power_t=0.5, random_state=None,\n",
       "       shuffle=True, solver='adam', tol=0.0001, validation_fraction=0.1,\n",
       "       verbose=False, warm_start=False),\n",
       "         bootstrap=True, bootstrap_features=False, max_features=0.7,\n",
       "         max_samples=0.5, n_estimators=20, n_jobs=-1, oob_score=False,\n",
       "         random_state=None, verbose=0, warm_start=False)"
      ]
     },
     "execution_count": 49,
     "metadata": {},
     "output_type": "execute_result"
    }
   ],
   "source": [
    "import numpy as np\n",
    "import pandas as pd\n",
    "from sklearn.neural_network import MLPClassifier\n",
    "from sklearn.model_selection import train_test_split\n",
    "from sklearn.model_selection import GridSearchCV\n",
    "from sklearn.decomposition import PCA\n",
    "from sklearn.ensemble import BaggingClassifier\n",
    "\n",
    "# Critere de performance\n",
    "def compute_pred_score(y_true, y_pred):\n",
    "    y_pred_unq = np.unique(y_pred)\n",
    "    for i in y_pred_unq:\n",
    "        if (i != -1) & (i!= 1) & (i!= 0):\n",
    "            raise ValueError('The predictions can contain only -1, 1, or 0!')\n",
    "    y_comp = y_true * y_pred\n",
    "    score = float(10*np.sum(y_comp == -1) + np.sum(y_comp == 0))\n",
    "    score /= y_comp.shape[0]\n",
    "    return score\n",
    "\n",
    "X_train_fname = 'training_templates.csv'\n",
    "y_train_fname = 'training_labels.txt'\n",
    "X_test_fname = 'testing_templates.csv'\n",
    "X_train = pd.read_csv(X_train_fname, sep=',', header=None).values\n",
    "X_test = pd.read_csv(X_test_fname,  sep=',', header=None).values\n",
    "y_train = np.loadtxt(y_train_fname, dtype=np.int)\n",
    "\n",
    "\n",
    "def uncerAjust(y_pred, y_pred_pro, threshold=0.9):\n",
    "    temps = y_pred\n",
    "    for i in xrange(len(y_pred)):\n",
    "        if np.abs(y_pred_pro[i][1]-y_pred_pro[i][0]) < threshold:\n",
    "            temps[i] = 0\n",
    "    return temps\n",
    "\n",
    "\n",
    "def scorer(estimator, X, y):\n",
    "    y_pred = estimator.predict(X)\n",
    "    y_pred_pro = estimator.predict_proba(X)\n",
    "    y_pred = uncerAjust(y_pred, y_pred_pro)\n",
    "    return 1-compute_pred_score(y, y_pred)\n",
    "\n",
    "X_train_1, X_test_1, y_train_1, y_test_1 = train_test_split(X_train, y_train,\n",
    "                                                            train_size=0.98, test_size=0.02, random_state=42)\n",
    "\n",
    "pca = PCA(svd_solver='randomized', n_components=128, whiten=True)\n",
    "X_train_pca = pca.fit_transform(X_train_1)\n",
    "X_test_pca = pca.transform(X_test_1)\n",
    "print 1\n",
    "\n",
    "clf = BaggingClassifier(MLPClassifier(hidden_layer_sizes=(200, 200, 200)),\n",
    "                        n_estimators=30, max_features=0.7, max_samples=0.5, n_jobs=-1)\n",
    "clf.fit(X_train_pca, y_train_1)"
   ]
  },
  {
   "cell_type": "code",
   "execution_count": 50,
   "metadata": {
    "collapsed": false,
    "deletable": true,
    "editable": true
   },
   "outputs": [
    {
     "name": "stdout",
     "output_type": "stream",
     "text": [
      "0.125\n",
      "0.121685606061\n",
      "0.113636363636\n",
      "0.105587121212\n",
      "0.101325757576\n",
      "0.0984848484848\n",
      "0.0970643939394\n",
      "the threshold is: 0.360000\n",
      "[[  4.13273213e-02   9.58672679e-01]\n",
      " [  9.99997373e-01   2.62732895e-06]\n",
      " [  4.75954028e-03   9.95240460e-01]\n",
      " ..., \n",
      " [  4.09508130e-02   9.59049187e-01]\n",
      " [  7.51859942e-03   9.92481401e-01]\n",
      " [  5.13714623e-02   9.48628538e-01]]\n"
     ]
    }
   ],
   "source": [
    "threshold = 0\n",
    "\n",
    "X_train_pca = pca.fit_transform(X_train_1)\n",
    "X_test_pca = pca.transform(X_test_1)\n",
    "y_pred = clf.predict(X_test_pca)\n",
    "y_pred_pro = clf.predict_proba(X_test_pca)\n",
    "\n",
    "score = 1\n",
    "for thre in np.arange(0.2, 0.8, 0.01):\n",
    "    y_pred_111 = uncerAjust(y_pred, y_pred_pro, thre)\n",
    "    temp = compute_pred_score(y_pred_111, y_test_1)\n",
    "    if score > temp:\n",
    "        threshold = thre\n",
    "        score = temp\n",
    "        print temp\n",
    "print 'the threshold is: %f' %threshold\n",
    "\n",
    "X_test = pd.read_csv(X_test_fname,  sep=',', header=None).values\n",
    "X_test_pca1 = pca.transform(X_test)\n",
    "y_pred_test = clf.predict(X_test_pca1)\n",
    "y_pred_test_pro = clf.predict_proba(X_test_pca1)\n",
    "print y_pred_test_pro\n",
    "y_pred_test = uncerAjust(y_pred_test, y_pred_test_pro, threshold)\n",
    "np.savetxt('y_pred_bagging.txt', y_pred_test, fmt='%d')"
   ]
  },
  {
   "cell_type": "code",
   "execution_count": null,
   "metadata": {
    "collapsed": true,
    "deletable": true,
    "editable": true
   },
   "outputs": [],
   "source": []
  }
 ],
 "metadata": {
  "kernelspec": {
   "display_name": "Python 2",
   "language": "python",
   "name": "python2"
  },
  "language_info": {
   "codemirror_mode": {
    "name": "ipython",
    "version": 2
   },
   "file_extension": ".py",
   "mimetype": "text/x-python",
   "name": "python",
   "nbconvert_exporter": "python",
   "pygments_lexer": "ipython2",
   "version": "2.7.13"
  }
 },
 "nbformat": 4,
 "nbformat_minor": 2
}
